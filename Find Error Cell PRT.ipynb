{
 "cells": [
  {
   "cell_type": "code",
   "execution_count": 6,
   "metadata": {},
   "outputs": [
    {
     "name": "stdout",
     "output_type": "stream",
     "text": [
      "645\n",
      "645\n",
      "645\n",
      "645\n",
      "645\n"
     ]
    }
   ],
   "source": [
    "import pandas as pd\n",
    "import numpy as np\n",
    "import warnings\n",
    "warnings.filterwarnings(\"ignore\")\n",
    "\n",
    "# read data\n",
    "prt = pd.read_excel(r\"xxxx.xlsx\", sheet_name = \"Raw\")\n",
    "\n",
    "# create blank dataframe\n",
    "data = pd.DataFrame()\n",
    "\n",
    "# create rows\n",
    "data[\"Time\"] = np.nan \n",
    "data[\"Well\"] = np.nan\n",
    "data[\"Pressure Change\"] = np.nan\n",
    "data[\"Pressure Cell\"] = np.nan\n",
    "data[\"Saturation Change\"] = np.nan\n",
    "data[\"Saturation Cell\"] = np.nan\n",
    "data[\"(PC Volumetric) Concentration Change\"] = np.nan\n",
    "data[\"(PC Volumetric) Concentration Cell\"] = np.nan\n",
    "data[\"Composition Change\"] = np.nan\n",
    "data[\"Composition Cell\"] = np.nan\n",
    "data[\"(Adsorbed Comp) Concentration Change\"] = np.nan\n",
    "data[\"(Adsorbed Comp) Concentration Cell\"] = np.nan\n",
    "\n",
    "# scrap data from PRT file that converted to excel\n",
    "x = 0\n",
    "a = 1\n",
    "for i in prt.index:\n",
    "    if \"REPORT Nonlinear convergence at time\" in str(prt[\"REPORT Run Specifications\"][i]):\n",
    "        while str(prt[\"REPORT Run Specifications\"][i+5+a][0]) != \"+\":\n",
    "            if str(prt[\"REPORT Run Specifications\"][i+5+a]).split(\" \")[0] == \"|\" and str(prt[\"REPORT Run Specifications\"][i+5+a]).split(\" \")[1] == \"|\": \n",
    "                break\n",
    "            data.loc[x] = [prt[\"REPORT Run Specifications\"][i].split(\" \")[5],\n",
    "                            prt[\"REPORT Run Specifications\"][i+5+a].split(\" \")[4],\n",
    "                            prt[\"REPORT Run Specifications\"][i+5+a].split(\" \")[6],\n",
    "                            prt[\"REPORT Run Specifications\"][i+5+a].split(\" \")[7],\n",
    "                            prt[\"REPORT Run Specifications\"][i+5+a].split(\" \")[9],\n",
    "                            prt[\"REPORT Run Specifications\"][i+5+a].split(\" \")[10],\n",
    "                            prt[\"REPORT Run Specifications\"][i+5+a].split(\" \")[13],\n",
    "                            prt[\"REPORT Run Specifications\"][i+5+a].split(\" \")[14],\n",
    "                            prt[\"REPORT Run Specifications\"][i+5+a].split(\" \")[17],\n",
    "                            prt[\"REPORT Run Specifications\"][i+5+a].split(\" \")[18],\n",
    "                            prt[\"REPORT Run Specifications\"][i+5+a].split(\" \")[21],\n",
    "                            prt[\"REPORT Run Specifications\"][i+5+a].split(\" \")[22]]\n",
    "            print(prt[\"REPORT Run Specifications\"][i].split(\" \")[5], \"|\",\n",
    "                    prt[\"REPORT Run Specifications\"][i+5+a].split(\" \")[4], \"|\",\n",
    "                    prt[\"REPORT Run Specifications\"][i+5+a].split(\" \")[6], \"|\",\n",
    "                    prt[\"REPORT Run Specifications\"][i+5+a].split(\" \")[7], \"|\",\n",
    "                    prt[\"REPORT Run Specifications\"][i+5+a].split(\" \")[9], \"|\",\n",
    "                    prt[\"REPORT Run Specifications\"][i+5+a].split(\" \")[10], \"|\",\n",
    "                    prt[\"REPORT Run Specifications\"][i+5+a].split(\" \")[13], \"|\",\n",
    "                    prt[\"REPORT Run Specifications\"][i+5+a].split(\" \")[14], \"|\",\n",
    "                    prt[\"REPORT Run Specifications\"][i+5+a].split(\" \")[17], \"|\",\n",
    "                    prt[\"REPORT Run Specifications\"][i+5+a].split(\" \")[18], \"|\",\n",
    "                    prt[\"REPORT Run Specifications\"][i+5+a].split(\" \")[21], \"|\",\n",
    "                    prt[\"REPORT Run Specifications\"][i+5+a].split(\" \")[22])\n",
    "\n",
    "            x += 1\n",
    "            a += 1\n",
    "        \n",
    "        # restart a\n",
    "        a = 1\n",
    "\n",
    "# convert it to excel\n",
    "data.to_excel(r\"xxxxx.xlsx\", index=False)"
   ]
  }
 ],
 "metadata": {
  "kernelspec": {
   "display_name": "Python 3",
   "language": "python",
   "name": "python3"
  },
  "language_info": {
   "codemirror_mode": {
    "name": "ipython",
    "version": 3
   },
   "file_extension": ".py",
   "mimetype": "text/x-python",
   "name": "python",
   "nbconvert_exporter": "python",
   "pygments_lexer": "ipython3",
   "version": "3.10.9"
  },
  "orig_nbformat": 4
 },
 "nbformat": 4,
 "nbformat_minor": 2
}
