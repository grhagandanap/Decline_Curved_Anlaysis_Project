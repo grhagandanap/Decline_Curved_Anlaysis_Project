{
 "cells": [
  {
   "cell_type": "code",
   "execution_count": null,
   "metadata": {},
   "outputs": [],
   "source": [
    "df"
   ]
  },
  {
   "cell_type": "code",
   "execution_count": null,
   "metadata": {},
   "outputs": [],
   "source": [
    "# test\n",
    "\n",
    "import plotly.express as px\n",
    "import pandas as pd\n",
    "\n",
    "df1 = pd.read_excel(r\"D:\\GG\\MINAS\\map2.xlsx\", sheet_name = \"Sheet1\")\n",
    "df2 = pd.read_excel(r\"D:\\GG\\MINAS\\map2.xlsx\", sheet_name = \"Sheet2\")\n",
    "df = pd.merge(df1, df2, left_on = \"UWI\", right_on = \"*WELL\", how = \"outer\")\n",
    "\n",
    "df.dropna(inplace=True)\n",
    "\n",
    "df = df.groupby([\"*WELL\", \"Latitude\", \"Longitude\", \"*YEAR\", ], as_index=False)[\"*OIL\"].sum()"
   ]
  },
  {
   "cell_type": "code",
   "execution_count": null,
   "metadata": {},
   "outputs": [],
   "source": [
    "df"
   ]
  },
  {
   "cell_type": "code",
   "execution_count": null,
   "metadata": {},
   "outputs": [],
   "source": [
    "type(geo_df[\"geometry\"])"
   ]
  },
  {
   "cell_type": "code",
   "execution_count": null,
   "metadata": {},
   "outputs": [],
   "source": [
    "import plotly.express as px\n",
    "import geopandas as gpd\n",
    "\n",
    "geo_df = gpd.read_file(gpd.datasets.get_path('naturalearth_cities'))\n",
    "\n",
    "px.set_mapbox_access_token(open(\".mapbox_token\").read())\n",
    "fig = px.scatter_geo(geo_df,\n",
    "                    lat=geo_df.geometry.y,\n",
    "                    lon=geo_df.geometry.x,\n",
    "                    hover_name=\"name\")\n",
    "fig.show()"
   ]
  },
  {
   "cell_type": "code",
   "execution_count": null,
   "metadata": {},
   "outputs": [],
   "source": [
    "from bubbly.bubbly import bubbleplot \n",
    "\n",
    "figure = bubbleplot(dataset=gapminder_indicators, x_column='gdpPercap', y_column='lifeExp', \n",
    "    bubble_column='country', time_column='year', size_column='pop', color_column='continent', \n",
    "    x_title=\"GDP per Capita\", y_title=\"Life Expectancy\", title='Gapminder Global Indicators',\n",
    "    x_logscale=True, scale_bubble=3, height=650)\n",
    "\n",
    "iplot(figure, config={'scrollzoom': True})"
   ]
  },
  {
   "cell_type": "code",
   "execution_count": null,
   "metadata": {},
   "outputs": [],
   "source": [
    "import plotly.express as px\n",
    "\n",
    "fig = px.scatter_geo(df,\n",
    "                     lat=\"Latitude\",\n",
    "                     lon=\"Longitude\",\n",
    "                     hover_name=\"UWI\")\n",
    "\n",
    "fig.show()"
   ]
  },
  {
   "cell_type": "code",
   "execution_count": null,
   "metadata": {},
   "outputs": [],
   "source": [
    "# test\n",
    "\n",
    "import plotly.express as px\n",
    "import pandas as pd\n",
    "\n",
    "df = pd.read_excel(r\"D:\\GG\\MINAS\\map3.xlsx\", sheet_name = \"Geograph\")\n",
    "fig = px.scatter(df, x = \"Longitude\", y = \"Latitude\")\n",
    "fig.show()"
   ]
  },
  {
   "cell_type": "code",
   "execution_count": null,
   "metadata": {},
   "outputs": [],
   "source": [
    "import plotly.express as px\n",
    "df = px.data.gapminder()\n",
    "fig = px.scatter_geo(df, locations=\"iso_alpha\", color=\"continent\",\n",
    "                     hover_name=\"country\", size=\"pop\",\n",
    "                     animation_frame=\"year\",\n",
    "                     projection=\"natural earth\")\n",
    "fig.show()"
   ]
  },
  {
   "cell_type": "markdown",
   "metadata": {},
   "source": [
    "# Calculating Average PERM and PORO for Specific Interval of Depth from .las Format "
   ]
  },
  {
   "cell_type": "code",
   "execution_count": null,
   "metadata": {},
   "outputs": [],
   "source": [
    "import pandas as pd\n",
    "import numpy as np\n",
    "\n",
    "wo = pd.read_excel(r\"D:\\GG\\LQR MINAS\\WO new.xlsx\", sheet_name = 'Sheet2')\n",
    "\n",
    "df_final = pd.DataFrame()\n",
    "\n",
    "for j in range(0,120):\n",
    "\n",
    "    f = open(\"D:\\GG\\LQR MINAS\\LAS MINAS\\\\\" + str(wo['UWI'][j]) + \".las\", \"r\")\n",
    "    contents = f.read()\n",
    "    f.seek(0)\n",
    "    content = f.readlines()\n",
    "\n",
    "    if \"SWJ\" in contents:\n",
    "        df = pd.DataFrame(content[63:])\n",
    "    else:\n",
    "        df = pd.DataFrame(content[62:])\n",
    "\n",
    "    df.drop(0, axis=0, inplace=True)\n",
    "    df[0] = df[0].str.replace('  ',' ')\n",
    "\n",
    "    df['depth'] = np.nan\n",
    "    df['perm'] = np.nan\n",
    "    df['poro'] = np.nan\n",
    "    df['well'] = np.nan\n",
    "\n",
    "    for i in df.index:\n",
    "            \n",
    "        df['depth'][i] = df[0][i].split(' ')[1]\n",
    "\n",
    "        if \"SWJ\" in contents:\n",
    "            df['perm'][i] = df[0][i].split(' ')[17]\n",
    "        else:\n",
    "            df['perm'][i] = df[0][i].split(' ')[16]\n",
    "\n",
    "        df['poro'][i] = df[0][i].split(' ')[3]\n",
    "\n",
    "    df['depth'] = df['depth'].astype('float')\n",
    "    df['poro'] = df['poro'].astype('float')\n",
    "    df['perm'] = df['perm'].astype('float')\n",
    "    df['well'] = str(wo['UWI'][j])\n",
    "\n",
    "    f.close()\n",
    "\n",
    "    df.drop(0, axis=1, inplace=True)\n",
    "    df_new = df[(df['depth'] >= float(wo['TOP'][j])) & (df['depth'] <= float(wo['BOTTOM'][j]))]\n",
    "    df_new = df_new.groupby('well', as_index=False)[['perm', 'poro']].mean()\n",
    "    df_final = pd.concat([df_final, df_new])\n",
    "\n",
    "df_final.to_excel(\"D:\\GG\\LQR MINAS\\PERM & PORO.xlsx\")"
   ]
  },
  {
   "cell_type": "markdown",
   "metadata": {},
   "source": [
    "# Completion Update and Manipulation"
   ]
  },
  {
   "cell_type": "code",
   "execution_count": 47,
   "metadata": {},
   "outputs": [],
   "source": [
    "import pandas as pd\n",
    "\n",
    "df = pd.read_excel(r\"D:\\GG\\LQR MINAS\\Prod & Comp\\Completion Final 2022.xlsx\", sheet_name = \"EV Merged until 2023\")"
   ]
  },
  {
   "cell_type": "code",
   "execution_count": 28,
   "metadata": {},
   "outputs": [],
   "source": [
    "for i,j in enumerate(df['STATUS'].unique()):\n",
    "    df['STATUS'] = df['STATUS'].replace(i, j)"
   ]
  },
  {
   "cell_type": "code",
   "execution_count": 48,
   "metadata": {},
   "outputs": [],
   "source": [
    "df['STATUS'] = df['STATUS'].replace('perforation', 1)\n",
    "df['STATUS'] = df['STATUS'].replace('squeeze', 2)\n",
    "df['STATUS'] = df['STATUS'].replace('plug', 3)"
   ]
  },
  {
   "cell_type": "code",
   "execution_count": 49,
   "metadata": {},
   "outputs": [],
   "source": [
    "df = df.sort_values(by=['WELL', 'STATUS', 'DATE', 'TOP'])"
   ]
  },
  {
   "cell_type": "code",
   "execution_count": 50,
   "metadata": {},
   "outputs": [],
   "source": [
    "df['STATUS'] = df['STATUS'].replace(1, 'perforation')\n",
    "df['STATUS'] = df['STATUS'].replace(2, 'squeeze')\n",
    "df['STATUS'] = df['STATUS'].replace(3, 'plug')"
   ]
  },
  {
   "cell_type": "code",
   "execution_count": 51,
   "metadata": {},
   "outputs": [],
   "source": [
    "df.to_excel(r\"D:\\GG\\LQR MINAS\\Prod & Comp\\New Perfo 2023.xlsx\", index = False)"
   ]
  },
  {
   "cell_type": "code",
   "execution_count": 57,
   "metadata": {},
   "outputs": [],
   "source": [
    "import xlsxwriter\n",
    "\n",
    "wb = xlsxwriter.Workbook(r\"D:\\GG\\LQR MINAS\\Prod & Comp\\New Perfo EV 2023.xlsx\", )\n",
    "\n",
    "sheet = wb.add_worksheet(\"EV\")\n",
    "\n",
    "row_count = 2\n",
    "df = pd.read_excel(r\"D:\\GG\\LQR MINAS\\Prod & Comp\\New Perfo 2023.xlsx\", sheet_name = \"Ready\")\n",
    "\n",
    "sheet.write(0,0, 'UNITS FIELD')\n",
    "\n",
    "for i in df.index:\n",
    "    \n",
    "    sheet.write(row_count, 0, str(df['COMP'][i]))\n",
    "\n",
    "    if i == 0:\n",
    "        sheet.write(row_count, 0, \"WELLNAME \" + \"\\\"\" + str(df['WELL'][i]) + \"\\\"\")\n",
    "\n",
    "    if str(df['WELL'][i]) == '1':\n",
    "        break\n",
    "\n",
    "    if str(df['WELL'][i]) == str(df['WELL'][i+1]):\n",
    "        \n",
    "        row_count += 1\n",
    "\n",
    "        if 'perforation' in str(df['COMP'][i]) and 'squeeze' in str(df['COMP'][i+1]):\n",
    "            row_count += 1\n",
    "        elif 'squeeze' in str(df['COMP'][i]) and 'plug' in str(df['COMP'][i+1]):\n",
    "            row_count += 1\n",
    "        else: \n",
    "            pass\n",
    "\n",
    "    elif str(df['WELL'][i]) != str(df['WELL'][i+1]):\n",
    "        row_count+=2\n",
    "        sheet.write(row_count, 0, \"WELLNAME \" + \"\\\"\" + str(df['WELL'][i+1]) + \"\\\"\")\n",
    "        row_count+=1\n",
    "\n",
    "wb.close()"
   ]
  }
 ],
 "metadata": {
  "kernelspec": {
   "display_name": "Python 3",
   "language": "python",
   "name": "python3"
  },
  "language_info": {
   "codemirror_mode": {
    "name": "ipython",
    "version": 3
   },
   "file_extension": ".py",
   "mimetype": "text/x-python",
   "name": "python",
   "nbconvert_exporter": "python",
   "pygments_lexer": "ipython3",
   "version": "3.10.9"
  },
  "orig_nbformat": 4
 },
 "nbformat": 4,
 "nbformat_minor": 2
}
